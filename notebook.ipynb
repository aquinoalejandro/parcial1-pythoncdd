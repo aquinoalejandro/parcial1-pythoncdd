{
 "cells": [
  {
   "cell_type": "markdown",
   "metadata": {},
   "source": [
    "# Primer Parcial de Python para Ciencias de Datos - Aquino Alejandro\n",
    "## Segunda actividad - Algoritmia\n",
    "2. Para la actividad de algoritmia hice una pequeña función llamada “capitalizar_palabra” que toma como parámetro una palabra (str), y utiliza el método capitalize() de python para poner en mayúscula la primera letra y el resto las deja en minúscula."
   ]
  },
  {
   "cell_type": "markdown",
   "metadata": {},
   "source": [
    "- Se define la funcion que toma una palabra y la devuelve capitalizada"
   ]
  },
  {
   "cell_type": "code",
   "execution_count": 3,
   "metadata": {},
   "outputs": [],
   "source": [
    "def capitalizar_palabra(palabra):\n",
    "    return palabra.capitalize()"
   ]
  },
  {
   "cell_type": "markdown",
   "metadata": {},
   "source": [
    "- Se muestra por consola la llamada a la funcion con la palabra \"python\" y eso deberia devolver \"Python\""
   ]
  },
  {
   "cell_type": "code",
   "execution_count": 4,
   "metadata": {},
   "outputs": [
    {
     "name": "stdout",
     "output_type": "stream",
     "text": [
      "Python\n"
     ]
    }
   ],
   "source": [
    "print(capitalizar_palabra(\"python\"))"
   ]
  },
  {
   "cell_type": "markdown",
   "metadata": {},
   "source": [
    "## Tercer Actividad - Pandas"
   ]
  },
  {
   "cell_type": "markdown",
   "metadata": {},
   "source": [
    "- Se importa pandas, para esto primero necesitamos tener instalado pandas en nuestro entorno virtual: \n",
    " ```\n",
    "pip install pandas\n",
    " ```"
   ]
  },
  {
   "cell_type": "code",
   "execution_count": 1,
   "metadata": {},
   "outputs": [],
   "source": [
    "import pandas as pd"
   ]
  },
  {
   "cell_type": "markdown",
   "metadata": {},
   "source": [
    "- Creamos la variable que contiene nuestro arreglo"
   ]
  },
  {
   "cell_type": "code",
   "execution_count": null,
   "metadata": {},
   "outputs": [],
   "source": [
    "productos = [\n",
    "{\"nombre\": \"Camiseta\", \"precio\": 20, \"cantidad_disponible\":\n",
    "100},\n",
    "{\"nombre\": \"Pantalón\", \"precio\": 30, \"cantidad_disponible\": 80},\n",
    "{\"nombre\": \"Zapatos\", \"precio\": 50, \"cantidad_disponible\": 50},\n",
    "{\"nombre\": \"Reloj\", \"precio\": 100, \"cantidad_disponible\": 30},\n",
    "{\"nombre\": \"Gorra\", \"precio\": 15, \"cantidad_disponible\": 120},\n",
    "{\"nombre\": \"Bufanda\", \"precio\": 25, \"cantidad_disponible\": 60},\n",
    "{\"nombre\": \"Sudadera\", \"precio\": 40, \"cantidad_disponible\": 70},\n",
    "{\"nombre\": \"Bolsa\", \"precio\": 35, \"cantidad_disponible\": 90},\n",
    "{\"nombre\": \"Chaqueta\", \"precio\": 80, \"cantidad_disponible\": 40},\n",
    "{\"nombre\": \"Gafas de sol\", \"precio\": 45, \"cantidad_disponible\":\n",
    "25},\n",
    "{\"nombre\": \"Calcetines\", \"precio\": 10, \"cantidad_disponible\":\n",
    "150},\n",
    "{\"nombre\": \"Sombrero\", \"precio\": 20, \"cantidad_disponible\": 55},\n",
    "{\"nombre\": \"Pulsera\", \"precio\": 5, \"cantidad_disponible\": 200},\n",
    "{\"nombre\": \"Pendientes\", \"precio\": 15, \"cantidad_disponible\":\n",
    "180},\n",
    "{\"nombre\": \"Cinturón\", \"precio\": 20, \"cantidad_disponible\":\n",
    "100},\n",
    "{\"nombre\": \"Vestido\", \"precio\": 60, \"cantidad_disponible\": 35},\n",
    "{\"nombre\": \"Corbata\", \"precio\": 25, \"cantidad_disponible\": 75},\n",
    "{\"nombre\": \"Bolso\", \"precio\": 70, \"cantidad_disponible\": 45},\n",
    "{\"nombre\": \"Paraguas\", \"precio\": 30, \"cantidad_disponible\": 65},\n",
    "{\"nombre\": \"Collar\", \"precio\": 40, \"cantidad_disponible\": 85},\n",
    "]"
   ]
  },
  {
   "cell_type": "markdown",
   "metadata": {},
   "source": [
    "Defino una funcion donde: \n",
    "- Creo un dataframe utilizando la lista que nos provee la actividad poniendo de columnas \"nombre\", \"precio\" y “cantidad_disponible”.\n",
    "\n",
    "- Creo una columna llamada “total_inventario”, donde va a estar la multiplicación de cada precio de producto con su respectiva cantidad.\n",
    "\n",
    "- Creo una columna llamada “valor_total_inventario” que va a ser la sumatoria de todos los valores del inventario.\n",
    "\n",
    "- Simulo ventas remplazando valores de cantidad con el método replace() depandas y registro esas ventas en 2 columnas una cuyo nombre es“update_cantidad”, que tiene los valores actualizados de la cantidad deproductos y otra(aunque no me lo pedia), donde está más explícito lo que vendimos llamada “cantidad_vendidos”.\n",
    "\n",
    "- Creo un nuevo dataframe llamado “nuevo_df” cuya columnas son el nombre del producto y las cantidades actuales de cada uno.\n",
    "\n",
    "- Este ultimo dataframe lo devuelve la funcion"
   ]
  },
  {
   "cell_type": "code",
   "execution_count": 5,
   "metadata": {},
   "outputs": [],
   "source": [
    "def operaciones(productos):\n",
    "    #creo un dataframe con la lista\n",
    "    df = pd.DataFrame(productos, columns=[\"nombre\", \"precio\", \"cantidad_disponible\"])\n",
    "    #total de inventario\n",
    "    df[\"total_inventario\"] = df[\"precio\"] * df[\"cantidad_disponible\"]\n",
    "    #valor total de inventario(suma de todos los valores)\n",
    "    df[\"valor_total_inventario\"] = df[\"total_inventario\"].cumsum()\n",
    "    #ventas\n",
    "    df[\"update_cantidad\"] = df[\"cantidad_disponible\"].replace(80,79)\n",
    "    df[\"update_cantidad\"] = df[\"update_cantidad\"].replace(200,198)\n",
    "    df[\"update_cantidad\"] = df[\"update_cantidad\"].replace(35,32)\n",
    "    #cantidad de vendidos\n",
    "    df[\"cantidad_vendidos\"] = df[\"cantidad_disponible\"] - df[\"update_cantidad\"]\n",
    "    print(df)\n",
    "    #crear un nuevo dataframe con las columans nombre y cantidad de cada producto\n",
    "    nuevo_df = pd.DataFrame(df, columns=[\"nombre\"])\n",
    "    nuevo_df[\"cantidad\"] = df[\"update_cantidad\"]\n",
    "\n",
    "    return nuevo_df"
   ]
  },
  {
   "cell_type": "markdown",
   "metadata": {},
   "source": [
    "Este dataframe que devuelve lo guardo en una variable"
   ]
  },
  {
   "cell_type": "code",
   "execution_count": null,
   "metadata": {},
   "outputs": [],
   "source": [
    "dataframe = operaciones(productos)"
   ]
  },
  {
   "cell_type": "markdown",
   "metadata": {},
   "source": [
    "- Lo mostramos por consola"
   ]
  },
  {
   "cell_type": "code",
   "execution_count": null,
   "metadata": {},
   "outputs": [],
   "source": [
    "print(dataframe)"
   ]
  },
  {
   "cell_type": "markdown",
   "metadata": {},
   "source": [
    "## Actividad Cuatro - Matplotlib"
   ]
  },
  {
   "cell_type": "markdown",
   "metadata": {},
   "source": [
    "4. Para esta parte importamos matplotlib"
   ]
  },
  {
   "cell_type": "code",
   "execution_count": null,
   "metadata": {},
   "outputs": [],
   "source": [
    "import matplotlib.pyplot as plt"
   ]
  },
  {
   "cell_type": "markdown",
   "metadata": {},
   "source": [
    "- Creamos las variables x e y que van a ser nombre y cantidad del ultimo dataframe creado."
   ]
  },
  {
   "cell_type": "code",
   "execution_count": null,
   "metadata": {},
   "outputs": [],
   "source": [
    "x = dataframe[\"nombre\"]\n",
    "y = dataframe[\"cantidad\"]"
   ]
  },
  {
   "cell_type": "markdown",
   "metadata": {},
   "source": [
    "- Configuramos plt como un grafico de barras, ajustamos los subplots y lo mostramos"
   ]
  },
  {
   "cell_type": "code",
   "execution_count": null,
   "metadata": {},
   "outputs": [],
   "source": [
    "plt.bar(x,y)\n",
    "plt.subplots_adjust(right=1, left=0.06)\n",
    "plt.show()"
   ]
  }
 ],
 "metadata": {
  "kernelspec": {
   "display_name": "env",
   "language": "python",
   "name": "python3"
  },
  "language_info": {
   "codemirror_mode": {
    "name": "ipython",
    "version": 3
   },
   "file_extension": ".py",
   "mimetype": "text/x-python",
   "name": "python",
   "nbconvert_exporter": "python",
   "pygments_lexer": "ipython3",
   "version": "3.12.3"
  }
 },
 "nbformat": 4,
 "nbformat_minor": 2
}
